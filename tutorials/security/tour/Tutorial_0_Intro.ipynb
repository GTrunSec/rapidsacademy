{
 "cells": [
  {
   "cell_type": "markdown",
   "metadata": {},
   "source": [
    "## Python security RAPIDS GPU & graph one-liners: Index\n",
    "\n",
    "All GPU Python data science tutorials: [RAPIDS Academy github](https://github.com/RAPIDSAcademy/rapidsacademy)\n",
    "\n",
    "**Contributors**\n",
    "  * [Leo Meyerovich](https://twitter.com/lmeyerov) ([Graphistry](https://www.graphistry.com))\n",
    "    * We started using Jupyter for security in ~2014!\n",
    "    * How do we bring GPU, graph, ML, etc. to hunt/fraud/etc. analysts? \n",
    "    * Jupyter+Viz = <3 !\n",
    "    * Eliminate most notebook wrangling via fusion query & visual pivoting env: explore/viz + record/replay\n",
    "  * [Rodrigo Aramburu](https://twitter.com/rodaramburu), [Winston Robson](https://www.linkedin.com/in/winstonrobson/) ([BlazingSQL](https://www.blazingsql.com))\n",
    "  * [Brad Rees](https://twitter.com/BradReesWork), [Bartley Richardson](https://www.linkedin.com/in/bartleyrichardson/) ([Nvidia/RAPIDS](https://www.rapids.ai))\n",
    "\n",
    "**Topics**\n",
    "\n",
    "* **GPUs & Graphs**: Modern perspective & ecosystem\n",
    "* **Setup**: [setup instruction](setup.ipynb)\n",
    "* **Tutorial 1: [Network traffic mapping](Tutorial_1_A_Network_Mapping.ipynb)**\n",
    "  * Why: Network data -> map, ssh exfil, DNS beaconing, ...\n",
    "  * Concepts: Out-of-GPU-memory, graph, viz\n",
    "  * How: blazingsql, cudf, graphistry\n",
    "* **Tutorial 2: [COVID domain campaign analysis](Tutorial_2_covid_domains.ipynb)**\n",
    "  * Why: Threat intel data -> map, outliers, ...\n",
    "  * Concepts: Graph analytics, GPU regex\n",
    "  * How: cudf, cugraph, graphistry\n",
    "* **Tutorial 3: [Tutorial 3: Fuzzy matching and bucketing across events using UMAP and hypergraphs](Tutorial_3_incident_umap_knn.ipynb)**\n",
    "  * Inspired by Matt Swann (Microsoft)'s GraphThePlanet talk on [Intrusion detection with graphs](https://www.slideshare.net/MattSwann1)\n",
    "  * Why: *Fuzzy* linking of alerts & events -> groups for incident response prioritization & scoping, bot analysis, ...\n",
    "  * Concepts: Event & graph ML: UMAP -> k-nn\n",
    "  * How: cuml + graphistry\n",
    "  \n",
    "**After**\n",
    "\n",
    "Feedback & further tutorials: RAPIDS Academy @ [LearnRAPIDS.com](learnrapids.com)\n",
    "* Ex: Combining with SIEM, Orchestration, Artifict/Insight collection, Overall arch, ...\n",
    "* Ex: Out-of-core tricks, ML tricks, Graph I & II & graph neural nets, ..."
   ]
  },
  {
   "cell_type": "markdown",
   "metadata": {},
   "source": [
    "### Setup\n",
    "[RAPIDS GPU environment setup instructions](setup.ipynb)\n",
    "\n",
    "### CPU - Moore’s law is dead\n",
    "### GPU - Years of cloud perf doublings & price drops 🤩\n",
    "\n",
    "#### \"I'll just launch an instance..\"\n",
    "\n",
    "![GPU growth](gpu_cloud_graph.png)"
   ]
  },
  {
   "cell_type": "markdown",
   "metadata": {},
   "source": [
    "### GPU notebooks for > 50MB data\n",
    "*  100MB, 500MB, 5GB, 50GB, 5TB, ...\n",
    "* [RAPIDS.ai](https://www.rapids.ai) ecosystem: [cudf](https://github.com/rapidsai/cudf), [cuml](https://github.com/rapidsai/cuml), [BlazingSQL](https://blazingsql.com/), [Graphistry](https://www.graphistry.com), ...\n",
    "\n",
    "![GPU tools](ecosystem.png)"
   ]
  },
  {
   "cell_type": "markdown",
   "metadata": {},
   "source": [
    "### The Graph Journey\n",
    "\n",
    "![Graph journey](why_graph.png)"
   ]
  },
  {
   "cell_type": "code",
   "execution_count": null,
   "metadata": {},
   "outputs": [],
   "source": []
  }
 ],
 "metadata": {
  "kernelspec": {
   "display_name": "Python 3.7 (RAPIDS)",
   "language": "python",
   "name": "rapids"
  },
  "language_info": {
   "codemirror_mode": {
    "name": "ipython",
    "version": 3
   },
   "file_extension": ".py",
   "mimetype": "text/x-python",
   "name": "python",
   "nbconvert_exporter": "python",
   "pygments_lexer": "ipython3",
   "version": "3.7.3"
  }
 },
 "nbformat": 4,
 "nbformat_minor": 4
}
